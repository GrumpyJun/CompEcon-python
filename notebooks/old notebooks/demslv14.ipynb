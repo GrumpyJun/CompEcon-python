{
 "cells": [
  {
   "cell_type": "markdown",
   "metadata": {},
   "source": [
    "###DemSlv14\n",
    "# Spacial Equilibrium Model\n",
    "\n",
    "* See textbook page 56 for description"
   ]
  },
  {
   "cell_type": "markdown",
   "metadata": {},
   "source": [
    "* Demand and supply equations\n",
    "    Country     Demand        Supply\n",
    "       1      p = 42 - 2q    p =  9 + 1q\n",
    "       2      p = 54 - 3q    p =  3 + 2q\n",
    "       3      p = 51 - 1q    p = 18 + 1q\n",
    "\n",
    "* Transportation costs:\n",
    "        From        To country 1 To country 2 To country 3\n",
    "        Country 1        0             3            9\n",
    "        Country 2        3             0            3\n",
    "        Country 3        6             3            0\n"
   ]
  },
  {
   "cell_type": "code",
   "execution_count": 1,
   "metadata": {
    "collapsed": true
   },
   "outputs": [],
   "source": [
    "import numpy as np\n",
    "from compecon import MCP\n",
    "np.set_printoptions(precision=4)"
   ]
  },
  {
   "cell_type": "code",
   "execution_count": 2,
   "metadata": {
    "collapsed": false
   },
   "outputs": [],
   "source": [
    "def market(x, jac, as_, bs, ad, bd, c):\n",
    "    quantities = x.reshape((3,3))\n",
    "    ps = as_ + bs * quantities.sum(0)\n",
    "    pd = ad - bd * quantities.sum(1)\n",
    "    ps, pd = np.meshgrid(ps, pd)\n",
    "    fval = (pd - ps - c).flatten()\n",
    "    return (fval, None) if jac else fval"
   ]
  },
  {
   "cell_type": "code",
   "execution_count": 3,
   "metadata": {
    "collapsed": false
   },
   "outputs": [],
   "source": [
    "A = np.array\n",
    "as_ = A([9, 3, 18])\n",
    "bs = A([1, 2, 1])\n",
    "ad = A([42, 54, 51])\n",
    "bd = A([3, 2, 1])\n",
    "c = A([[0, 3, 9], [3, 0, 3],[6, 3, 0]])\n",
    "params = (as_, bs, ad, bd, c)"
   ]
  },
  {
   "cell_type": "code",
   "execution_count": 4,
   "metadata": {
    "collapsed": false
   },
   "outputs": [],
   "source": [
    "a = np.zeros(9)\n",
    "b = np.full(9, np.inf)\n",
    "Market = MCP(market, a, b, *params)"
   ]
  },
  {
   "cell_type": "code",
   "execution_count": 5,
   "metadata": {
    "collapsed": false
   },
   "outputs": [
    {
     "name": "stdout",
     "output_type": "stream",
     "text": [
      "   0     0  1.32e+01\n",
      "   1     0  5.12e+00\n",
      "   2     0  3.86e+00\n",
      "   3     1  3.85e+00\n",
      "   4     0  2.63e+00\n",
      "   5     1  1.57e+00\n",
      "   6     9  1.58e+00\n",
      "   7     0  6.23e-02\n",
      "   8     0  1.16e-02\n",
      "   9     0  4.32e-03\n",
      "  10     0  2.16e-04\n",
      "  11     0  2.26e-05\n",
      "  12     0  1.28e-06\n",
      "  13     0  1.99e-08\n",
      "  14     0  5.12e-10\n"
     ]
    }
   ],
   "source": [
    "x0 = np.zeros(9)\n",
    "x, fx = Market.solve(x0, showiters=True)"
   ]
  },
  {
   "cell_type": "code",
   "execution_count": 6,
   "metadata": {
    "collapsed": false
   },
   "outputs": [
    {
     "name": "stdout",
     "output_type": "stream",
     "text": [
      "Quantities = \n",
      " [[  5.8846e+00  -1.3923e-12  -8.5938e-13]\n",
      " [  9.1553e+00   4.1716e+00   3.3836e-10]\n",
      " [  3.0621e-01   8.0015e+00   1.2346e+01]]\n",
      "Prices = \n",
      " [ 24.3462  27.3462  30.3462]\n",
      "Net exports =\n",
      " [ 9.4615 -1.1538 -8.3077]\n"
     ]
    }
   ],
   "source": [
    "quantities = x.reshape(3,3)\n",
    "prices = as_ + bs * quantities.sum(0)\n",
    "print('Quantities = \\n', quantities)\n",
    "print('Prices = \\n', prices)\n",
    "print('Net exports =\\n', quantities.sum(0) - quantities.sum(1))"
   ]
  },
  {
   "cell_type": "markdown",
   "metadata": {},
   "source": [
    "* In autarky"
   ]
  },
  {
   "cell_type": "code",
   "execution_count": 7,
   "metadata": {
    "collapsed": true
   },
   "outputs": [],
   "source": [
    "quantities = (ad - as_) / (bs + bd)\n",
    "prices = as_ + bs * quantities"
   ]
  },
  {
   "cell_type": "code",
   "execution_count": 8,
   "metadata": {
    "collapsed": false,
    "scrolled": false
   },
   "outputs": [
    {
     "name": "stdout",
     "output_type": "stream",
     "text": [
      "Quantities = \n",
      " [  8.25  12.75  16.5 ]\n",
      "Prices = \n",
      " [ 17.25  28.5   34.5 ]\n"
     ]
    }
   ],
   "source": [
    "print('Quantities = \\n', quantities)\n",
    "print('Prices = \\n', prices)"
   ]
  }
 ],
 "metadata": {
  "kernelspec": {
   "display_name": "Python 3",
   "language": "python",
   "name": "python3"
  },
  "language_info": {
   "codemirror_mode": {
    "name": "ipython",
    "version": 3
   },
   "file_extension": ".py",
   "mimetype": "text/x-python",
   "name": "python",
   "nbconvert_exporter": "python",
   "pygments_lexer": "ipython3",
   "version": "3.4.1"
  }
 },
 "nbformat": 4,
 "nbformat_minor": 0
}
