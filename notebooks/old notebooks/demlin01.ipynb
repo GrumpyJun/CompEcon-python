{
 "cells": [
  {
   "cell_type": "markdown",
   "metadata": {},
   "source": [
    "###DemLin01:\n",
    "#Solving linear equations by different methods\n",
    "    "
   ]
  },
  {
   "cell_type": "code",
   "execution_count": 1,
   "metadata": {
    "collapsed": true
   },
   "outputs": [],
   "source": [
    "import numpy as np\n",
    "from numpy.linalg import norm, cond, solve\n",
    "import time\n",
    "import matplotlib.pyplot as plt"
   ]
  },
  {
   "cell_type": "markdown",
   "metadata": {},
   "source": [
    "Make a function to time "
   ]
  },
  {
   "cell_type": "code",
   "execution_count": 2,
   "metadata": {
    "collapsed": true
   },
   "outputs": [],
   "source": [
    "tic = lambda: time.time()\n",
    "toc = lambda t: time.time() - t"
   ]
  },
  {
   "cell_type": "markdown",
   "metadata": {},
   "source": [
    "## Hundreds of seconds required to solve n by n linear equation $Ax = b$\n",
    "m times using solve(A, b) and dot(inv(A), b), computing inverse only once."
   ]
  },
  {
   "cell_type": "code",
   "execution_count": 3,
   "metadata": {
    "collapsed": false
   },
   "outputs": [
    {
     "name": "stdout",
     "output_type": "stream",
     "text": [
      "  m     n     solve(A,b)  dot(inv(A), b)\n",
      "----------------------------------------\n",
      "   1    50        0.30        0.10\n",
      "   1   500        0.30        1.20\n",
      " 100    50        0.60        0.00\n",
      " 100   500       43.50        1.20\n"
     ]
    }
   ],
   "source": [
    "print('{:^5} {:^5}   {:^11} {:^11}\\n{}'.format('m', 'n', 'solve(A,b)', 'dot(inv(A), b)', '-'*40))\n",
    "\n",
    "for m in [1, 100]:\n",
    "    for n in [50, 500]:\n",
    "        A = np.random.rand(n, n)\n",
    "        b = np.random.rand(n, 1)\n",
    "\n",
    "        tt = tic()\n",
    "        for j in range(m):\n",
    "            x = solve(A, b)\n",
    "\n",
    "        f1 = 100 * toc(tt)\n",
    "\n",
    "        tt = tic()\n",
    "        Ainv = np.linalg.inv(A)\n",
    "        for j in range(m):\n",
    "            x = np.dot(Ainv, b)\n",
    "\n",
    "        f2 = 100 * toc(tt)\n",
    "        print(' {:3}   {:3} {:11.2f} {:11.2f}'.format(m, n, f1, f2)) "
   ]
  }
 ],
 "metadata": {
  "kernelspec": {
   "display_name": "Python 3",
   "language": "python",
   "name": "python3"
  },
  "language_info": {
   "codemirror_mode": {
    "name": "ipython",
    "version": 3
   },
   "file_extension": ".py",
   "mimetype": "text/x-python",
   "name": "python",
   "nbconvert_exporter": "python",
   "pygments_lexer": "ipython3",
   "version": "3.4.1"
  }
 },
 "nbformat": 4,
 "nbformat_minor": 0
}
