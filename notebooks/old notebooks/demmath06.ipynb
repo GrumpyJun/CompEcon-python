{
 "cells": [
  {
   "cell_type": "markdown",
   "metadata": {},
   "source": [
    "### DemMath06:\n",
    "#Simulate Simple Markov Chain\n",
    "\n",
    "##Todo: finish this demo"
   ]
  },
  {
   "cell_type": "code",
   "metadata": {},
   "outputs": [],
   "source": [
    "from compecon.quad import qnwlogn\n",
    "from compecon.tools import nodeunif\n",
    "import numpy as np\n",
    "from scipy.integrate import quad\n",
    "import matplotlib.pyplot as plt\n",
    "from mpl_toolkits.mplot3d import Axes3D\n",
    "from matplotlib import cm\n",
    "import seaborn as sns\n",
    "sns.set_style('dark')\n",
    "from quantecon import MarkovChain"
   ]
  },
  {
   "cell_type": "markdown",
   "metadata": {},
   "source": [
    "## Model Parameters"
   ]
  },
  {
   "cell_type": "code",
   "execution_count": 2,
   "metadata": {},
   "outputs": [],
   "source": [
    "gamma = 0.07     # aggregate unemployment rate\n",
    "eta = 2.0        # expected duration of unemployment\n",
    "y = [0.51, 1.0]  # income per employment state\n",
    "delta = 0.90     # discount factor\n",
    "\n",
    "# Employment Transition Probabilities \n",
    "q = np.zeros([2, 2])\n",
    "q[0, 0] = 1 - 1 / eta\n",
    "q[1, 0] = gamma * (1 - q[0, 0]) / (1 - gamma)\n",
    "q[0, 1] = 1 - q[0, 0]\n",
    "q[1, 1] = 1 - q[1, 0]\n",
    "\n",
    "# Compute Expected Lifetime Income\n",
    "e = np.linalg.solve(np.identity(2) - delta * q, y)\n",
    "\n",
    "# Compute Stationary Distribution of Employment Expected Employment State Durations\n",
    "p = MarkovChain(q)  # not exactly what markov is in matlab"
   ]
  },
  {
   "cell_type": "code",
   "execution_count": 3,
   "metadata": {},
   "outputs": [
    {
     "name": "stdout",
     "output_type": "stream",
     "text": [
      "[[ 0.5         0.5       ]\n",
      " [ 0.03763441  0.96236559]]\n"
     ]
    }
   ],
   "source": [
    "print(q)"
   ]
  }
 ],
 "metadata": {
  "kernelspec": {
   "display_name": "Python 3",
   "language": "python",
   "name": "python3"
  },
  "language_info": {
   "codemirror_mode": {
    "name": "ipython",
    "version": 3.0
   },
   "file_extension": ".py",
   "mimetype": "text/x-python",
   "name": "python",
   "nbconvert_exporter": "python",
   "pygments_lexer": "ipython3",
   "version": "3.4.1"
  }
 },
 "nbformat": 4,
 "nbformat_minor": 0
}