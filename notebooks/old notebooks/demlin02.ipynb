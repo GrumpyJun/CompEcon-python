{
 "cells": [
  {
   "cell_type": "markdown",
   "metadata": {},
   "source": [
    "###DemLin02:\n",
    "#Ill-conditioning of Vandermonde matrix\n",
    "* todo: Review this demo, result not the same as in Miranda's\n",
    "\n"
   ]
  },
  {
   "cell_type": "code",
   "execution_count": 2,
   "metadata": {},
   "outputs": [],
   "source": [
    "import numpy as np\n",
    "from numpy.linalg import norm, cond, solve\n",
    "import time\n",
    "import matplotlib.pyplot as plt\n",
    "%matplotlib notebook\n",
    "np.set_printoptions(precision=4)"
   ]
  },
  {
   "cell_type": "markdown",
   "metadata": {},
   "source": [
    "Compute approximation error and matrix condition number"
   ]
  },
  {
   "cell_type": "code",
   "execution_count": 3,
   "metadata": {},
   "outputs": [
    {
     "name": "stdout",
     "output_type": "stream",
     "text": [
      "errv =\n [-11.0688 -13.5936 -12.0739  -6.8825  -5.5384  -5.9531  -7.6493  -5.9672\n  -5.4145  -6.3092  -5.6002  -5.8029  -4.5616  -5.6639  -4.912   -5.0873\n  -4.958   -5.8492  -5.0541  -5.6499  -5.7562  -5.6496  -5.8851  -5.7686\n  -5.475   -5.3383  -5.4446  -5.0718  -5.4484  -5.3056  -5.3707  -5.7315\n  -5.7709  -6.0165  -5.7509  -5.0538  -5.838   -6.063   -6.0756  -2.9206\n  -5.0652  -5.759   -5.8286  -6.3859  -6.0894]\n"
     ]
    }
   ],
   "source": [
    "n = np.arange(6, 51)\n",
    "nn = n.size\n",
    "\n",
    "errv = np.zeros(nn)\n",
    "conv = np.zeros(nn)\n",
    "\n",
    "for i in range(nn):\n",
    "    v = np.vander(1 + np.arange(n[i]))\n",
    "    errv[i] = np.log10(norm(np.identity(n[i]) - solve(v, v)))\n",
    "    conv[i] = np.log10(cond(v))\n",
    "\n",
    "print('errv =\\n', errv)"
   ]
  },
  {
   "cell_type": "markdown",
   "metadata": {},
   "source": [
    "Smooth using quadratic function"
   ]
  },
  {
   "cell_type": "code",
   "execution_count": 4,
   "metadata": {},
   "outputs": [
    {
     "name": "stdout",
     "output_type": "stream",
     "text": [
      "b =  [-7.8255  0.0633]\nb =  [  1.0590e+01   9.1579e-03]\n"
     ]
    }
   ],
   "source": [
    "X = np.vstack([np.ones(nn), n]).T\n",
    "b = np.linalg.lstsq(X, errv)[0]\n",
    "errv = np.dot(X, b)\n",
    "print('b = ', b)\n",
    "\n",
    "\n",
    "b = np.linalg.lstsq(X, conv)[0]\n",
    "conv = np.dot(X, b)\n",
    "print('b = ', b)"
   ]
  },
  {
   "cell_type": "markdown",
   "metadata": {},
   "source": [
    "Plot matrix condition numbers"
   ]
  },
  {
   "cell_type": "code",
   "execution_count": 5,
   "metadata": {},
   "outputs": [
    {
     "data": {
      "text/plain": [
       "<IPython.core.display.Javascript object>"
      ]
     },
     "execution_count": 0,
     "output_type": "execute_result",
     "metadata": {}
    },
    {
     "data": {
      "text/html": [
       "<div id='fb34d4cd-91af-4e4b-83b9-3404ea511cf4'></div>"
      ]
     },
     "output_type": "execute_result",
     "metadata": {}
    },
    {
     "data": {
      "text/plain": [
       "<matplotlib.text.Text at 0x77be4e0>"
      ]
     },
     "execution_count": 5,
     "output_type": "execute_result",
     "metadata": {}
    }
   ],
   "source": [
    "plt.figure(figsize=[12, 5])\n",
    "plt.subplot(1, 2, 1)\n",
    "plt.plot(n, conv)\n",
    "plt.xlabel('n')\n",
    "plt.ylabel('Log_{10} Condition Number')\n",
    "plt.title('Vandermonde Matrix Condition Numbers')"
   ]
  },
  {
   "cell_type": "markdown",
   "metadata": {},
   "source": [
    "Plot approximation errors"
   ]
  },
  {
   "cell_type": "code",
   "execution_count": 5,
   "metadata": {},
   "outputs": [
    {
     "data": {
      "text/plain": [
       "<matplotlib.text.Text at 0x73227b8>"
      ]
     },
     "execution_count": 5,
     "output_type": "execute_result",
     "metadata": {}
    }
   ],
   "source": [
    "plt.subplot(1, 2, 2)\n",
    "plt.plot(n,errv)\n",
    "plt.xlabel('n')\n",
    "plt.ylabel('Log_{10} Error')\n",
    "plt.title(r'Approximation Error for I - V\\V')"
   ]
  },
  {
   "cell_type": "code",
   "execution_count": null,
   "metadata": {},
   "outputs": [],
   "source": [
    ""
   ]
  }
 ],
 "metadata": {
  "kernelspec": {
   "display_name": "Python 3",
   "language": "python",
   "name": "python3"
  },
  "language_info": {
   "codemirror_mode": {
    "name": "ipython",
    "version": 3.0
   },
   "file_extension": ".py",
   "mimetype": "text/x-python",
   "name": "python",
   "nbconvert_exporter": "python",
   "pygments_lexer": "ipython3",
   "version": "3.4.1"
  }
 },
 "nbformat": 4,
 "nbformat_minor": 0
}