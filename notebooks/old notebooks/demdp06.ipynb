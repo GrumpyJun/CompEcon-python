{
 "cells": [
  {
   "cell_type": "markdown",
   "metadata": {},
   "source": [
    "# DEMDP06\n",
    "## Deterministic Optimal Economic Growth Model\n",
    "\n",
    "Welfare maximizing social planner must decide how much society should consume and invest.  \n",
    "\n",
    "Model is of special interest because it has a known closed-form solution.\n",
    "\n",
    "States\n",
    "*    s = stock of wealth\n",
    "\n",
    "Actions\n",
    "*    k = capital investment\n",
    "\n",
    "Parameters\n",
    "*    beta = capital production elasticity\n",
    "*    delta = discount factor"
   ]
  },
  {
   "cell_type": "markdown",
   "metadata": {},
   "source": [
    "## Formulation\n",
    "### Approximation Structure"
   ]
  },
  {
   "cell_type": "code",
   "execution_count": 1,
   "metadata": {
    "collapsed": false
   },
   "outputs": [
    {
     "name": "stderr",
     "output_type": "stream",
     "text": [
      "C:\\Program Files\\Anaconda3\\lib\\site-packages\\IPython\\kernel\\__init__.py:13: ShimWarning: The `IPython.kernel` package has been deprecated. You should import from ipykernel or jupyter_client instead.\n",
      "  \"You should import from ipykernel or jupyter_client instead.\", ShimWarning)\n"
     ]
    }
   ],
   "source": [
    "import numpy as np\n",
    "from numpy import log\n",
    "from compecon import Basis, DPmodel\n",
    "import matplotlib.pyplot as plt\n",
    "import seaborn as sns\n",
    "sns.set_style('dark')\n",
    "%matplotlib notebook"
   ]
  },
  {
   "cell_type": "markdown",
   "metadata": {},
   "source": [
    "## Specify the dynamic model"
   ]
  },
  {
   "cell_type": "code",
   "execution_count": 2,
   "metadata": {
    "collapsed": true
   },
   "outputs": [],
   "source": [
    "class growth_model(DPmodel):\n",
    "    def __init__(self, basis):\n",
    "        DPmodel.__init__(self, basis, \n",
    "                         ni=1, \n",
    "                         nj=1, \n",
    "                         dx=1,\n",
    "                         discount=0.9)\n",
    "        self.beta  = 0.7\n",
    "        s = basis.nodes\n",
    "        vtrue = self.vstar + self.b * log(s / self.sstar)\n",
    "        ktrue = self.time.discount * s\n",
    "        \n",
    "        self.Value_j.y += vtrue\n",
    "        self.Policy_j.y += ktrue\n",
    "        self.update_value_function()\n",
    "        \n",
    "    @property\n",
    "    def sstar(self):  # steady-state wealth\n",
    "        beta = self.beta\n",
    "        d = self.time.discount\n",
    "        return((beta * d) ** (beta/(1-beta)))\n",
    "    \n",
    "    @property\n",
    "    def kstar(self):  # steady-state capital investment\n",
    "        beta = self.beta\n",
    "        d = self.time.discount\n",
    "        return(beta * d * self.sstar)\n",
    "    \n",
    "    @property\n",
    "    def vstar(self):  # steady-state value\n",
    "        return(log(self.sstar-self.kstar)/(1-self.time.discount))\n",
    "    \n",
    "    @property\n",
    "    def pstar(self):  # steady-state shadow price\n",
    "        return(1 / (self.sstar * (1 - self.beta * self.time.discout)))\n",
    "    \n",
    "    @property\n",
    "    def b(self):\n",
    "        return(1 / (1 - self.time.discount * self.beta))\n",
    "    \n",
    "    def bounds(self,s,i,j):\n",
    "        n = len(s)\n",
    "        lowerBound = np.zeros([n])\n",
    "        upperBound = s\n",
    "        return(lowerBound, upperBound)\n",
    "    \n",
    "    def reward(self,s,k,i,inext,j,e):\n",
    "        sk = s - k\n",
    "        f = log(sk)\n",
    "        Df = - sk ** -1\n",
    "        D2f = - sk ** -2\n",
    "        return(f, Df, D2f)\n",
    "    \n",
    "    def transition(self,s,k,i,inext,j,e):\n",
    "        beta = self.beta\n",
    "        g = k ** beta\n",
    "        Dg = beta * k ** (beta - 1)\n",
    "        D2g = (beta - 1) * beta * k ** (beta - 2)\n",
    "        return(g, Dg, D2g)"
   ]
  },
  {
   "cell_type": "markdown",
   "metadata": {},
   "source": [
    "Approximation Structure"
   ]
  },
  {
   "cell_type": "code",
   "execution_count": 3,
   "metadata": {
    "collapsed": false
   },
   "outputs": [],
   "source": [
    "n     = 25                             # number of collocation nodes\n",
    "smin  = 0.2                            # minimum wealth\n",
    "smax  = 1.0                            # maximum wealth\n",
    "BASIS = Basis(n,smin,smax)             # basis functions"
   ]
  },
  {
   "cell_type": "markdown",
   "metadata": {},
   "source": [
    "Make instance of model"
   ]
  },
  {
   "cell_type": "code",
   "execution_count": 4,
   "metadata": {
    "collapsed": false
   },
   "outputs": [],
   "source": [
    "M = growth_model(BASIS)"
   ]
  },
  {
   "cell_type": "code",
   "execution_count": 12,
   "metadata": {
    "collapsed": false
   },
   "outputs": [
    {
     "ename": "IndexError",
     "evalue": "index 1 is out of bounds for axis 1 with size 1",
     "output_type": "error",
     "traceback": [
      "\u001b[1;31m---------------------------------------------------------------------------\u001b[0m",
      "\u001b[1;31mIndexError\u001b[0m                                Traceback (most recent call last)",
      "\u001b[1;32m<ipython-input-12-98d10e0fccbc>\u001b[0m in \u001b[0;36m<module>\u001b[1;34m()\u001b[0m\n\u001b[1;32m----> 1\u001b[1;33m \u001b[0mM\u001b[0m\u001b[1;33m.\u001b[0m\u001b[0msolve\u001b[0m\u001b[1;33m(\u001b[0m\u001b[1;33m)\u001b[0m\u001b[1;33m\u001b[0m\u001b[0m\n\u001b[0m",
      "\u001b[1;32mC:\\Users\\Randall\\OneDrive\\Documents\\Python\\CompEcon\\compecon\\dpmodel.py\u001b[0m in \u001b[0;36msolve\u001b[1;34m(self, solver)\u001b[0m\n\u001b[0;32m    300\u001b[0m \u001b[1;33m\u001b[0m\u001b[0m\n\u001b[0;32m    301\u001b[0m         \u001b[1;31m# Set transition matrix\u001b[0m\u001b[1;33m\u001b[0m\u001b[1;33m\u001b[0m\u001b[0m\n\u001b[1;32m--> 302\u001b[1;33m         \u001b[0mself\u001b[0m\u001b[1;33m.\u001b[0m\u001b[0mrandom\u001b[0m\u001b[1;33m.\u001b[0m\u001b[0mset_transition_matrix\u001b[0m\u001b[1;33m(\u001b[0m\u001b[0mni\u001b[0m\u001b[1;33m,\u001b[0m \u001b[0mnj\u001b[0m\u001b[1;33m)\u001b[0m\u001b[1;33m\u001b[0m\u001b[0m\n\u001b[0m\u001b[0;32m    303\u001b[0m \u001b[1;33m\u001b[0m\u001b[0m\n\u001b[0;32m    304\u001b[0m         \u001b[1;34m''' 2: SOLVE THE MODEL******************** '''\u001b[0m\u001b[1;33m\u001b[0m\u001b[0m\n",
      "\u001b[1;32mC:\\Users\\Randall\\OneDrive\\Documents\\Python\\CompEcon\\compecon\\dpmodel.py\u001b[0m in \u001b[0;36mset_transition_matrix\u001b[1;34m(self, ni, nj)\u001b[0m\n\u001b[0;32m     77\u001b[0m             \u001b[1;32mfor\u001b[0m \u001b[0mi\u001b[0m \u001b[1;32min\u001b[0m \u001b[0mrange\u001b[0m\u001b[1;33m(\u001b[0m\u001b[0mni\u001b[0m\u001b[1;33m)\u001b[0m\u001b[1;33m:\u001b[0m\u001b[1;33m\u001b[0m\u001b[0m\n\u001b[0;32m     78\u001b[0m                 \u001b[1;32mfor\u001b[0m \u001b[0mj\u001b[0m \u001b[1;32min\u001b[0m \u001b[0mrange\u001b[0m\u001b[1;33m(\u001b[0m\u001b[0mnj\u001b[0m\u001b[1;33m)\u001b[0m\u001b[1;33m:\u001b[0m\u001b[1;33m\u001b[0m\u001b[0m\n\u001b[1;32m---> 79\u001b[1;33m                     \u001b[0mq_\u001b[0m\u001b[1;33m[\u001b[0m\u001b[0mi\u001b[0m\u001b[1;33m,\u001b[0m\u001b[0mself\u001b[0m\u001b[1;33m.\u001b[0m\u001b[0mh\u001b[0m\u001b[1;33m[\u001b[0m\u001b[0mj\u001b[0m\u001b[1;33m,\u001b[0m\u001b[0mi\u001b[0m\u001b[1;33m]\u001b[0m\u001b[1;33m,\u001b[0m \u001b[0mj\u001b[0m\u001b[1;33m]\u001b[0m \u001b[1;33m=\u001b[0m \u001b[1;36m1\u001b[0m\u001b[1;33m\u001b[0m\u001b[0m\n\u001b[0m\u001b[0;32m     80\u001b[0m \u001b[1;33m\u001b[0m\u001b[0m\n\u001b[0;32m     81\u001b[0m             \u001b[0mself\u001b[0m\u001b[1;33m.\u001b[0m\u001b[0mq\u001b[0m \u001b[1;33m=\u001b[0m \u001b[0mq_\u001b[0m\u001b[1;33m\u001b[0m\u001b[0m\n",
      "\u001b[1;31mIndexError\u001b[0m: index 1 is out of bounds for axis 1 with size 1"
     ]
    }
   ],
   "source": [
    "M.solve()"
   ]
  }
 ],
 "metadata": {
  "kernelspec": {
   "display_name": "Python 3",
   "language": "python",
   "name": "python3"
  },
  "language_info": {
   "codemirror_mode": {
    "name": "ipython",
    "version": 3
   },
   "file_extension": ".py",
   "mimetype": "text/x-python",
   "name": "python",
   "nbconvert_exporter": "python",
   "pygments_lexer": "ipython3",
   "version": "3.4.3"
  }
 },
 "nbformat": 4,
 "nbformat_minor": 0
}
