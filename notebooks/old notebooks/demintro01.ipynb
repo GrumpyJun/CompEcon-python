{
 "cells": [
  {
   "cell_type": "markdown",
   "metadata": {},
   "source": [
    "###DemIntro01:\n",
    "#Inverse Demand Problem"
   ]
  },
  {
   "cell_type": "markdown",
   "metadata": {},
   "source": [
    "#### Preliminary task:\n",
    "Load required modules"
   ]
  },
  {
   "cell_type": "code",
   "execution_count": 1,
   "metadata": {
    "collapsed": false
   },
   "outputs": [
    {
     "name": "stderr",
     "output_type": "stream",
     "text": [
      "C:\\Anaconda3\\lib\\site-packages\\matplotlib\\__init__.py:872: UserWarning: axes.color_cycle is deprecated and replaced with axes.prop_cycle; please use the latter.\n",
      "  warnings.warn(self.msg_depr % (key, alt_key))\n"
     ]
    }
   ],
   "source": [
    "import numpy as np\n",
    "import matplotlib.pyplot as plt\n",
    "import seaborn as sns\n",
    "sns.set_style('dark')\n",
    "%matplotlib inline"
   ]
  },
  {
   "cell_type": "code",
   "execution_count": 2,
   "metadata": {
    "collapsed": false
   },
   "outputs": [
    {
     "name": "stdout",
     "output_type": "stream",
     "text": [
      "iteration price \n",
      "----------------\n",
      "    0     0.0843\n",
      "    1     0.1363\n",
      "    2     0.1558\n",
      "    3     0.1539\n",
      "    4     0.1543\n",
      "    5     0.1542\n",
      "    6     0.1542\n",
      "    7     0.1542\n",
      "    8     0.1542\n",
      "    9     0.1542\n",
      "   10     0.1542\n",
      "   11     0.1542\n"
     ]
    }
   ],
   "source": [
    "demand = lambda p: 0.5 * p ** -0.2 + 0.5 * p ** -0.5\n",
    "derivative = lambda p: -0.01 * p ** -1.2 - 0.25 * p ** -1.5\n",
    "\n",
    "p = 0.25\n",
    "print('{:9} {:^6}\\n{}'.format('iteration', 'price','-'*16))\n",
    "for it in range(100):\n",
    "    f = demand(p) - 2\n",
    "    d = derivative(p)\n",
    "    s = -f / d\n",
    "    p += s\n",
    "    print('{:^9} {:6.4f}'.format(it, p))\n",
    "    if np.linalg.norm(s) < 1.0e-8:\n",
    "        break"
   ]
  },
  {
   "cell_type": "markdown",
   "metadata": {},
   "source": [
    "Generate demand function"
   ]
  },
  {
   "cell_type": "code",
   "execution_count": 3,
   "metadata": {
    "collapsed": true
   },
   "outputs": [],
   "source": [
    "pstar = p\n",
    "qstar = demand(pstar)\n",
    "n, a, b = 100, 0.02, 0.40\n",
    "p = np.linspace(a, b, n)\n",
    "q = demand(p)"
   ]
  },
  {
   "cell_type": "markdown",
   "metadata": {},
   "source": [
    "Graph demand function"
   ]
  },
  {
   "cell_type": "code",
   "execution_count": 4,
   "metadata": {
    "collapsed": false
   },
   "outputs": [
    {
     "data": {
      "text/plain": [
       "[<matplotlib.lines.Line2D at 0x20bb686c5f8>]"
      ]
     },
     "execution_count": 4,
     "metadata": {},
     "output_type": "execute_result"
    },
    {
     "data": {
      "image/png": "[encoded data removed]",
      "text/plain": [
       "<matplotlib.figure.Figure at 0x20bb83b64a8>"
      ]
     },
     "metadata": {},
     "output_type": "display_data"
    }
   ],
   "source": [
    "fig = plt.figure(figsize=[12,6])\n",
    "ax1 = fig.add_subplot(121, title='Demand', aspect=0.1,\n",
    "                      xlabel='p', xticks=[0.0, 0.2, 0.4], xlim=[0, 0.4],\n",
    "                      ylabel='q', yticks=[0, 2, 4], ylim=[0, 4])\n",
    "ax1.plot(p, q, 'b')"
   ]
  },
  {
   "cell_type": "markdown",
   "metadata": {},
   "source": [
    "Graph inverse demand function"
   ]
  },
  {
   "cell_type": "code",
   "execution_count": 5,
   "metadata": {
    "collapsed": false
   },
   "outputs": [
    {
     "name": "stderr",
     "output_type": "stream",
     "text": [
      "C:\\Anaconda3\\lib\\site-packages\\matplotlib\\figure.py:397: UserWarning: matplotlib is currently using a non-GUI backend, so cannot show the figure\n",
      "  \"matplotlib is currently using a non-GUI backend, \"\n"
     ]
    }
   ],
   "source": [
    "ax2 = fig.add_subplot(122, title='Inverse Demand', aspect=10,\n",
    "                      xlabel='q', xticks=[0, 2, 4], xlim=[0, 4],\n",
    "                      ylabel='p', yticks=[0.0, pstar, 0.2, 0.4], yticklabels=['0.0', '$p^{*}$', '0.2', '0.4'], ylim=[0, 0.4])\n",
    "ax2.plot(q, p, 'b')\n",
    "ax2.plot([0, 2, 2], [pstar, pstar, 0], 'r--')\n",
    "ax2.plot([2], [pstar], 'ro', markersize=12)\n",
    "fig.show()"
   ]
  }
 ],
 "metadata": {
  "kernelspec": {
   "display_name": "Python 3",
   "language": "python",
   "name": "python3"
  },
  "language_info": {
   "codemirror_mode": {
    "name": "ipython",
    "version": 3
   },
   "file_extension": ".py",
   "mimetype": "text/x-python",
   "name": "python",
   "nbconvert_exporter": "python",
   "pygments_lexer": "ipython3",
   "version": "3.5.1"
  }
 },
 "nbformat": 4,
 "nbformat_minor": 0
}
