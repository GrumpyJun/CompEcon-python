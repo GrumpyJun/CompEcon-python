{
 "cells": [
  {
   "cell_type": "markdown",
   "metadata": {},
   "source": [
    "### DEMAPP07 "
   ]
  },
  {
   "cell_type": "markdown",
   "metadata": {},
   "source": [
    "# Solve Cournot oligopoly model via collocation"
   ]
  },
  {
   "cell_type": "markdown",
   "metadata": {},
   "source": [
    "To illustrate implementation of the collocation method for implicit function problems, consider the example of Cournot oligopoly. In the standard microeconomic model of the firm, the firm maximizes profit by equating marginal revenue to marginal cost (MC). An oligopolistic firm, recognizing that its actions affect price, takes the marginal revenue to be $p + q\\frac{dp}{dq}$, where $p$ is price, $q$ is quantity produced, and $\\frac{dp}{dq}$ is the marginal impact of output on market price. The Cournot assumption is that the firm acts as if any change in its output will be unmatched by its competitors. This implies that\n",
    "\n",
    "\\begin{equation}\n",
    "    \\frac{dp}{dq} = \\frac{1}{D'(p)}\n",
    "\\end{equation}\n",
    "\n",
    "where $D(p)$ is the market demand curve.\n",
    "\n",
    "Suppose we wish to derive the effective supply function for the firm, which specifies\n",
    "the quantity $q = S(p)$ it will supply at any price. The firm's effective supply function is\n",
    "characterized by the functional equation\n",
    "\n",
    "\\begin{equation}\n",
    "    p + \\frac{S(p)}{D'(p)} - MC(S(p)) = 0\n",
    "\\end{equation}\n",
    "\n",
    "for all positive prices $p$. In simple cases, this function can be found explicitly.  However,\n",
    "in more complicated cases, no explicit solution exists."
   ]
  },
  {
   "cell_type": "code",
   "execution_count": 1,
   "metadata": {
    "collapsed": false
   },
   "outputs": [],
   "source": [
    "from demos.setup import np, plt, demo\n",
    "from compecon import BasisChebyshev, NLP, nodeunif\n",
    "%matplotlib inline"
   ]
  },
  {
   "cell_type": "markdown",
   "metadata": {},
   "source": [
    "### Model parameters\n",
    "\n",
    "Here, the demand elasticity and the marginal cost function parameter are"
   ]
  },
  {
   "cell_type": "code",
   "execution_count": 2,
   "metadata": {
    "collapsed": true
   },
   "outputs": [],
   "source": [
    "alpha = 1.0\n",
    "eta = 3.5"
   ]
  },
  {
   "cell_type": "markdown",
   "metadata": {},
   "source": [
    "### Approximation structure\n",
    "\n",
    "A degree-25 Chebychev basis on the interval [0.5, 3.0] is selected; also, the associated collocation nodes `p` are computed."
   ]
  },
  {
   "cell_type": "code",
   "execution_count": 3,
   "metadata": {
    "collapsed": false
   },
   "outputs": [],
   "source": [
    "n =  21\n",
    "a = 0.5\n",
    "b = 2.0\n",
    "\n",
    "S = BasisChebyshev(n, a, b, labels=['price'], l=['supply'])\n",
    "p = S.nodes"
   ]
  },
  {
   "cell_type": "markdown",
   "metadata": {},
   "source": [
    "### Residual function\n",
    "\n",
    "Suppose, for example, that\n",
    "\n",
    "\\begin{equation}\n",
    "    D(p) = p^{-\\eta} \\quad\\text{and}\\quad MC(q) = \\alpha\\sqrt{q} + q^2\n",
    "\\end{equation}\n",
    "\n",
    "Then the functional equation to be solved for S(p),\n",
    "\n",
    "\\begin{equation}\n",
    " \\left[p - \\frac{S(p)p^{\\eta+1}}{\\eta}\\right] -\\left[\\alpha\\sqrt{S(p)} + S(p)^2\\right] = 0\n",
    "\\end{equation}\n",
    "\n",
    "has no known closed-form solution."
   ]
  },
  {
   "cell_type": "code",
   "execution_count": 4,
   "metadata": {
    "collapsed": true
   },
   "outputs": [],
   "source": [
    "def resid(c):\n",
    "    S.c = c  # update interpolation coefficients\n",
    "    q = S(p) # compute quantity supplied at price nodes\n",
    "    return p - q * (p ** (eta+1) / eta) - alpha * np.sqrt(q) - q ** 2"
   ]
  },
  {
   "cell_type": "markdown",
   "metadata": {},
   "source": [
    "Notice that `resid` only takes one argument. The other parameters (`Q`, `p`, `eta`, `alpha`) should be declared as such in the main script, were Python's scoping rules will find them."
   ]
  },
  {
   "cell_type": "markdown",
   "metadata": {},
   "source": [
    "### Solve for effective supply function\n",
    "\n",
    "Class `NLP` defines nonlinear problems. It can be used to solve `resid` by Broyden's method."
   ]
  },
  {
   "cell_type": "code",
   "execution_count": 5,
   "metadata": {
    "collapsed": false
   },
   "outputs": [
    {
     "ename": "IndexError",
     "evalue": "index 1 is out of bounds for axis 0 with size 1",
     "output_type": "error",
     "traceback": [
      "\u001b[1;31m---------------------------------------------------------------------------\u001b[0m",
      "\u001b[1;31mIndexError\u001b[0m                                Traceback (most recent call last)",
      "\u001b[1;32m<ipython-input-5-2a59b8e64582>\u001b[0m in \u001b[0;36m<module>\u001b[1;34m()\u001b[0m\n\u001b[0;32m      2\u001b[0m \u001b[0mc0\u001b[0m\u001b[1;33m[\u001b[0m\u001b[1;36m0\u001b[0m\u001b[1;33m]\u001b[0m \u001b[1;33m=\u001b[0m \u001b[1;36m1\u001b[0m\u001b[1;33m\u001b[0m\u001b[0m\n\u001b[0;32m      3\u001b[0m \u001b[0mcournot\u001b[0m \u001b[1;33m=\u001b[0m \u001b[0mNLP\u001b[0m\u001b[1;33m(\u001b[0m\u001b[0mresid\u001b[0m\u001b[1;33m)\u001b[0m\u001b[1;33m\u001b[0m\u001b[0m\n\u001b[1;32m----> 4\u001b[1;33m \u001b[0mS\u001b[0m\u001b[1;33m.\u001b[0m\u001b[0mc\u001b[0m \u001b[1;33m=\u001b[0m \u001b[0mcournot\u001b[0m\u001b[1;33m.\u001b[0m\u001b[0mbroyden\u001b[0m\u001b[1;33m(\u001b[0m\u001b[0mc0\u001b[0m\u001b[1;33m,\u001b[0m \u001b[0mtol\u001b[0m\u001b[1;33m=\u001b[0m\u001b[1;36m1e-12\u001b[0m\u001b[1;33m)\u001b[0m\u001b[1;33m\u001b[0m\u001b[0m\n\u001b[0m",
      "\u001b[1;32mC:\\Users\\Randall\\OneDrive\\Documents\\Python\\CompEcon\\compecon\\nonlinear.py\u001b[0m in \u001b[0;36mbroyden\u001b[1;34m(self, x0, **kwargs)\u001b[0m\n\u001b[0;32m    225\u001b[0m         \u001b[0mfx\u001b[0m \u001b[1;33m=\u001b[0m \u001b[0mfx\u001b[0m\u001b[1;33m.\u001b[0m\u001b[0mflatten\u001b[0m\u001b[1;33m(\u001b[0m\u001b[1;33m)\u001b[0m\u001b[1;33m\u001b[0m\u001b[0m\n\u001b[0;32m    226\u001b[0m \u001b[1;33m\u001b[0m\u001b[0m\n\u001b[1;32m--> 227\u001b[1;33m         \u001b[0mJinv\u001b[0m \u001b[1;33m=\u001b[0m \u001b[0mself\u001b[0m\u001b[1;33m.\u001b[0m\u001b[0mreset_inverse_jacobian\u001b[0m\u001b[1;33m(\u001b[0m\u001b[0mx\u001b[0m\u001b[1;33m)\u001b[0m\u001b[1;33m\u001b[0m\u001b[0m\n\u001b[0m\u001b[0;32m    228\u001b[0m \u001b[1;33m\u001b[0m\u001b[0m\n\u001b[0;32m    229\u001b[0m         \u001b[0mfnorm\u001b[0m \u001b[1;33m=\u001b[0m \u001b[0mnp\u001b[0m\u001b[1;33m.\u001b[0m\u001b[0mmax\u001b[0m\u001b[1;33m(\u001b[0m\u001b[0mnp\u001b[0m\u001b[1;33m.\u001b[0m\u001b[0mabs\u001b[0m\u001b[1;33m(\u001b[0m\u001b[0mfx\u001b[0m\u001b[1;33m)\u001b[0m\u001b[1;33m)\u001b[0m\u001b[1;33m\u001b[0m\u001b[0m\n",
      "\u001b[1;32mC:\\Users\\Randall\\OneDrive\\Documents\\Python\\CompEcon\\compecon\\nonlinear.py\u001b[0m in \u001b[0;36mreset_inverse_jacobian\u001b[1;34m(self, x)\u001b[0m\n\u001b[0;32m    348\u001b[0m             \u001b[1;32melse\u001b[0m\u001b[1;33m:\u001b[0m\u001b[1;33m\u001b[0m\u001b[0m\n\u001b[0;32m    349\u001b[0m                 \u001b[1;31m# fjacinv = np.linalg.pinv(jacobian(self.f[0], x))\u001b[0m\u001b[1;33m\u001b[0m\u001b[1;33m\u001b[0m\u001b[0m\n\u001b[1;32m--> 350\u001b[1;33m                 \u001b[0mfjacinv\u001b[0m \u001b[1;33m=\u001b[0m \u001b[0mnp\u001b[0m\u001b[1;33m.\u001b[0m\u001b[0mlinalg\u001b[0m\u001b[1;33m.\u001b[0m\u001b[0mpinv\u001b[0m\u001b[1;33m(\u001b[0m\u001b[0mself\u001b[0m\u001b[1;33m.\u001b[0m\u001b[0mf\u001b[0m\u001b[1;33m(\u001b[0m\u001b[0mx\u001b[0m\u001b[1;33m)\u001b[0m\u001b[1;33m[\u001b[0m\u001b[1;36m1\u001b[0m\u001b[1;33m]\u001b[0m\u001b[1;33m)\u001b[0m\u001b[1;33m\u001b[0m\u001b[0m\n\u001b[0m\u001b[0;32m    351\u001b[0m         \u001b[1;32melse\u001b[0m\u001b[1;33m:\u001b[0m\u001b[1;33m\u001b[0m\u001b[0m\n\u001b[0;32m    352\u001b[0m             \u001b[0mfjacinv\u001b[0m \u001b[1;33m=\u001b[0m \u001b[0mself\u001b[0m\u001b[1;33m.\u001b[0m\u001b[0mopts\u001b[0m\u001b[1;33m.\u001b[0m\u001b[0minitb\u001b[0m\u001b[1;33m\u001b[0m\u001b[0m\n",
      "\u001b[1;31mIndexError\u001b[0m: index 1 is out of bounds for axis 0 with size 1"
     ]
    }
   ],
   "source": [
    "c0 = np.zeros(n)  # set initial guess for coefficients\n",
    "c0[0] = 1\n",
    "cournot = NLP(resid)\n",
    "S.c = cournot.broyden(c0, tol=1e-12)"
   ]
  },
  {
   "cell_type": "markdown",
   "metadata": {},
   "source": [
    "### Plot demand and effective supply for m=5 firms"
   ]
  },
  {
   "cell_type": "code",
   "execution_count": null,
   "metadata": {
    "collapsed": false
   },
   "outputs": [],
   "source": [
    "pplot = nodeunif(501, a, b)\n",
    "splot = S(pplot)\n",
    "dplot = pplot ** -eta\n",
    "demo.figure('Cournot Effective Firm Supply Function', \n",
    "            'Quantity', 'Price', [0, 4], [0.5, 2])\n",
    "plt.plot(5 * splot, pplot, dplot, pplot)\n",
    "plt.legend(('Supply','Demand'))"
   ]
  },
  {
   "cell_type": "markdown",
   "metadata": {},
   "source": [
    "### Plot residual\n",
    "\n",
    "Notice that `resid` does not take explicit parameters, so to evaluate it when prices are `pplot` we need to assign `p = pplot`."
   ]
  },
  {
   "cell_type": "markdown",
   "metadata": {},
   "source": [
    "In order to assess the quality of the approximation, one plots the residual function over the approximation domain. Here, the residual function is plotted by computing the residual at a refined grid of 501 equally spaced points."
   ]
  },
  {
   "cell_type": "code",
   "execution_count": null,
   "metadata": {
    "collapsed": false
   },
   "outputs": [],
   "source": [
    "p = pplot \n",
    "rplot = resid(S.c)\n",
    "demo.figure('Residual Function for Cournot Problem',\n",
    "            'Quantity', 'Residual')\n",
    "plt.hlines(0, a, b, 'k', '--', lw=2)\n",
    "plt.plot(pplot, rplot)"
   ]
  },
  {
   "cell_type": "markdown",
   "metadata": {},
   "source": [
    "### Plot demand and effective supply for m=1, 3, 5, 10, 15, 20 firms"
   ]
  },
  {
   "cell_type": "code",
   "execution_count": null,
   "metadata": {
    "collapsed": false
   },
   "outputs": [],
   "source": [
    "m = np.array([1, 3, 5, 10, 15, 20])\n",
    "demo.figure('Industry Supply and Demand Functions', \n",
    "            'Quantity', 'Price', [0, 13])\n",
    "plt.plot(np.outer(splot, m), pplot, dplot, pplot)\n",
    "plt.legend(['m=1', 'm=3', 'm=5', 'm=10', 'm=15', 'm=20'])"
   ]
  },
  {
   "cell_type": "markdown",
   "metadata": {},
   "source": [
    "### Plot equilibrium price as a function of number of firms m"
   ]
  },
  {
   "cell_type": "code",
   "execution_count": null,
   "metadata": {
    "collapsed": false
   },
   "outputs": [],
   "source": [
    "pp = (b + a) / 2\n",
    "dp = (b - a) / 2\n",
    "m  = np.arange(1, 26)\n",
    "for i in range(50):\n",
    "    dp /= 2\n",
    "    pp = pp - np.sign(S(pp) * m - pp ** (-eta)) * dp\n",
    "\n",
    "demo.figure('Cournot Equilibrium Price as Function of Industry Size', \n",
    "            'Number of Firms', 'Price')\n",
    "plt.plot(m, pp)"
   ]
  }
 ],
 "metadata": {
  "kernelspec": {
   "display_name": "Python 3",
   "language": "python",
   "name": "python3"
  },
  "language_info": {
   "codemirror_mode": {
    "name": "ipython",
    "version": 3
   },
   "file_extension": ".py",
   "mimetype": "text/x-python",
   "name": "python",
   "nbconvert_exporter": "python",
   "pygments_lexer": "ipython3",
   "version": "3.5.0"
  }
 },
 "nbformat": 4,
 "nbformat_minor": 0
}
