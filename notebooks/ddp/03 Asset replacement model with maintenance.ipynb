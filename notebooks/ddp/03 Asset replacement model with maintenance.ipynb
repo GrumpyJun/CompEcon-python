{
 "cells": [
  {
   "cell_type": "markdown",
   "metadata": {},
   "source": [
    "### DEMDDP03 \n",
    "# Asset replacement model with maintenance"
   ]
  },
  {
   "cell_type": "markdown",
   "metadata": {},
   "source": [
    "Consider the preceding example, but suppose that the productivity of the asset may be\n",
    "enhanced by performing annual service maintenance. Specifically, at the beginning of each\n",
    "year, a manufacturer must decide whether to replace the asset with a new one or, if he elects\n",
    "to keep the asset, whether to service it. An asset that is $a$ years old and has been serviced $s$ times yields a profit contribution $p(a, s)$ up to an age of $n$ years, at which point the asset becomes unsafe and must be replaced by law. The cost of a new asset is $c$, and the cost of servicing an asset is $k$. What replacement-maintenance policy maximizes profits?"
   ]
  },
  {
   "cell_type": "code",
   "execution_count": 1,
   "metadata": {
    "collapsed": false
   },
   "outputs": [],
   "source": [
    "from demos.setup import np, plt, demo\n",
    "from compecon import DDPmodel, gridmake, getindex\n",
    "%matplotlib inline"
   ]
  },
  {
   "cell_type": "markdown",
   "metadata": {},
   "source": [
    "## Model Parameters\n",
    "Assume a maximum asset age of 5 years, asset replacement cost $c = 75$, cost of servicing $k = 10$, and annual discount factor $\\delta = 0.9$."
   ]
  },
  {
   "cell_type": "code",
   "execution_count": 2,
   "metadata": {
    "collapsed": true
   },
   "outputs": [],
   "source": [
    "maxage  = 5\n",
    "repcost = 75\n",
    "mancost = 10\n",
    "delta   = 0.9"
   ]
  },
  {
   "cell_type": "markdown",
   "metadata": {},
   "source": [
    "### State Space\n",
    "\n",
    "This is an infinite horizon, deterministic model with time $t$ measured in years. The state\n",
    "variables\n",
    "\n",
    "$a \\in \\{1, 2, 3, \\dots, n\\}$\n",
    "\n",
    "$s \\in \\{0, 1, 2, \\dots, n − 1\\}$\n",
    "\n",
    "are the age of the asset in years and the number of servicings it has undergone, respectively."
   ]
  },
  {
   "cell_type": "code",
   "execution_count": 3,
   "metadata": {
    "collapsed": true
   },
   "outputs": [],
   "source": [
    "s1 = np.arange(1, 1 + maxage)   # asset age\n",
    "s2 = s1 - 1                     # servicings\n",
    "S  = gridmake(s1,s2)            # combined state grid\n",
    "S1, S2 = S\n",
    "n = S1.size                     # total number of states"
   ]
  },
  {
   "cell_type": "markdown",
   "metadata": {},
   "source": [
    "Here, the set of possible asset ages and servicings are generated individually, and then a two-dimensional state grid is constructed by forming their Cartesian product using the CompEcon routine gridmake."
   ]
  },
  {
   "cell_type": "markdown",
   "metadata": {},
   "source": [
    "### Action Space\n",
    "The action variable\n",
    "\n",
    "$x \\in \\{\\text{no action}, \\text{service}, \\text{replace}\\}$\n",
    "\n",
    "is the hold-replacement-maintenance decision."
   ]
  },
  {
   "cell_type": "code",
   "execution_count": 4,
   "metadata": {
    "collapsed": true
   },
   "outputs": [],
   "source": [
    "X = ['no action', 'service', 'replace']  # vector of actions\n",
    "m = len(X)                               # number of actions"
   ]
  },
  {
   "cell_type": "markdown",
   "metadata": {},
   "source": [
    "### Reward Function\n",
    "The reward function is\n",
    "\\begin{equation}\n",
    "f (a, s, x) =\n",
    "\\begin{cases}\n",
    "p(a, s),         &x = \\text{no action}\\\\\n",
    "p(0, 0) − c,     &x = \\text{service}\\\\\n",
    "p(a, s + 1) − k, &x = \\text{replace}\n",
    "\\end{cases}\n",
    "\\end{equation}\n",
    "\n",
    "Assuming a profit contribution $p(a) =\n",
    "50 − 2.5a −2.5a^2$ that is a function of the asset age $a$ in years.\n",
    "\n",
    "Here, the rows of the reward matrix, which\n",
    "correspond to the three admissible decisions (no action, service, replace), are computed\n",
    "individually."
   ]
  },
  {
   "cell_type": "code",
   "execution_count": 5,
   "metadata": {
    "collapsed": true
   },
   "outputs": [],
   "source": [
    "f = np.zeros((m, n))\n",
    "q = 50 - 2.5 * S1 - 2.5 * S1 ** 2\n",
    "f[0] = q * np.minimum(1, 1 - (S1 - S2) / maxage)\n",
    "f[1] = q * np.minimum(1, 1 - (S1 - S2 - 1) / maxage) - mancost\n",
    "f[2] = 50 - repcost"
   ]
  },
  {
   "cell_type": "markdown",
   "metadata": {},
   "source": [
    "### State Transition Function\n",
    "The state transition function is\n",
    "\\begin{equation}\n",
    "g(a, s, x) =\n",
    "\\begin{cases}\n",
    "(a + 1, s),     &x = \\text{no action}\\\\\n",
    "    (1, 0),     &x = \\text{service}\\\\\n",
    "(a + 1, s + 1), &x = \\text{replace}\n",
    "\\end{cases}\n",
    "\\end{equation}\n",
    "\n",
    "Here, the routine ```getindex``` is used to find the index of the following period’s state."
   ]
  },
  {
   "cell_type": "code",
   "execution_count": 6,
   "metadata": {
    "collapsed": true
   },
   "outputs": [],
   "source": [
    "g = np.empty_like(f)\n",
    "g[0] = getindex(np.c_[S1 + 1, S2], S)\n",
    "g[1] = getindex(np.c_[S1 + 1, S2 + 1], S)\n",
    "g[2] = getindex(np.c_[1, 0], S)"
   ]
  },
  {
   "cell_type": "markdown",
   "metadata": {},
   "source": [
    "# Model Structure"
   ]
  },
  {
   "cell_type": "markdown",
   "metadata": {},
   "source": [
    "The value of asset of age $a$ that has undergone $s$ servicings satisfies the Bellman equation\n",
    "\\begin{equation}\n",
    "V(a,s) = \\max\\{p(a,s) + \\delta V(a+1,s),\\quad p(a,s+1)−k + \\delta V(a+1,s+1),\n",
    "\\quad p(0,0) − c + \\delta V(1,0)\\}\n",
    "\\end{equation}\n",
    "\n",
    "where we set $p(n, s) = −\\infty$ for all $s$ to enforce replacement of an asset of age $n$. The\n",
    "Bellman equation asserts that if the manufacturer replaces an asset of age $a$ with servicings\n",
    "$s$, he earns $p(0,0) − c$ over the coming year and begins the subsequent year with an asset\n",
    "worth $V(1,0)$; if he services the asset, he earns $p(a, s + 1) − k$ over the coming year\n",
    "and begins the subsequent year with an asset worth $V(a + 1, s + 1)$. As with the previous\n",
    "example, the value $V(a, s)$ measures not only the current and future net earnings of the\n",
    "asset, but also the net earnings of all future assets that replace it."
   ]
  },
  {
   "cell_type": "markdown",
   "metadata": {},
   "source": [
    "To solve and simulate this model, use the CompEcon class ```DDPmodel```. "
   ]
  },
  {
   "cell_type": "code",
   "execution_count": 7,
   "metadata": {
    "collapsed": false
   },
   "outputs": [
    {
     "data": {
      "text/plain": [
       "A deterministic discrete state, discrete action, dynamic model.\n",
       "There are 3 possible actions over 25 possible states"
      ]
     },
     "execution_count": 7,
     "metadata": {},
     "output_type": "execute_result"
    }
   ],
   "source": [
    "model = DDPmodel(f, g, delta)\n",
    "model.solve()\n",
    "   "
   ]
  },
  {
   "cell_type": "markdown",
   "metadata": {},
   "source": [
    "## Analysis"
   ]
  },
  {
   "cell_type": "markdown",
   "metadata": {},
   "source": [
    "### Simulate Model\n",
    "The paths are computed by performing q deterministic simulation of 12 years in duration using the ```simulate()``` method."
   ]
  },
  {
   "cell_type": "code",
   "execution_count": 8,
   "metadata": {
    "collapsed": true
   },
   "outputs": [],
   "source": [
    "sinit = 0\n",
    "nyrs = 12\n",
    "t = np.arange(nyrs + 1)\n",
    "spath, xpath = model.simulate(sinit, nyrs)"
   ]
  },
  {
   "cell_type": "markdown",
   "metadata": {},
   "source": [
    "### Plot State Path (Age)\n",
    "The asset is replaced every four years, ..."
   ]
  },
  {
   "cell_type": "code",
   "execution_count": 9,
   "metadata": {
    "collapsed": false
   },
   "outputs": [
    {
     "data": {
      "image/png": "[encoded data removed]",
      "text/plain": [
       "<matplotlib.figure.Figure at 0xb7642fef98>"
      ]
     },
     "metadata": {},
     "output_type": "display_data"
    }
   ],
   "source": [
    "demo.figure('Optimal State Path', 'Year', 'Age of Asset', [0, 12])\n",
    "plt.plot(t, S1[spath])\n",
    "plt.show()"
   ]
  },
  {
   "cell_type": "markdown",
   "metadata": {},
   "source": [
    "### Plot State Path (Servicings)\n",
    "...and is serviced twice, at the beginning of the second and third years of operation."
   ]
  },
  {
   "cell_type": "code",
   "execution_count": 10,
   "metadata": {
    "collapsed": false
   },
   "outputs": [
    {
     "data": {
      "image/png": "[encoded data removed]",
      "text/plain": [
       "<matplotlib.figure.Figure at 0xb7644e52e8>"
      ]
     },
     "metadata": {},
     "output_type": "display_data"
    }
   ],
   "source": [
    "demo.figure('Optimal State Path', 'Year', 'Number of Servicings', [0, 12], [0, 2.25])\n",
    "plt.plot(t, S2[spath])\n",
    "plt.show()"
   ]
  }
 ],
 "metadata": {
  "kernelspec": {
   "display_name": "Python 3",
   "language": "python",
   "name": "python3"
  },
  "language_info": {
   "codemirror_mode": {
    "name": "ipython",
    "version": 3
   },
   "file_extension": ".py",
   "mimetype": "text/x-python",
   "name": "python",
   "nbconvert_exporter": "python",
   "pygments_lexer": "ipython3",
   "version": "3.5.0"
  }
 },
 "nbformat": 4,
 "nbformat_minor": 0
}
