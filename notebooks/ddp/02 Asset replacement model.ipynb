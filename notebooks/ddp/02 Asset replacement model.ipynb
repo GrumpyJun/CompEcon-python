{
 "cells": [
  {
   "cell_type": "markdown",
   "metadata": {},
   "source": [
    "### DEMDDP02 \n",
    "# Asset replacement model"
   ]
  },
  {
   "cell_type": "markdown",
   "metadata": {},
   "source": [
    "At the beginning of each year, a manufacturer must decide whether to continue to operate an aging physical asset or replace it with a new one. An asset that is $a$ years old yields a profit contribution $p(a)$ up to $n$ years, at which point the asset becomes unsafe and must be\n",
    "replaced by law. The cost of a new asset is $c$. What replacement policy maximizes profits?"
   ]
  },
  {
   "cell_type": "markdown",
   "metadata": {},
   "source": [
    "This is an infinite horizon, deterministic model with time $t$ measured in years. "
   ]
  },
  {
   "cell_type": "code",
   "execution_count": 1,
   "metadata": {
    "collapsed": false
   },
   "outputs": [],
   "source": [
    "from demos.setup import np, plt, demo\n",
    "from compecon import DDPmodel\n",
    "%matplotlib inline"
   ]
  },
  {
   "cell_type": "markdown",
   "metadata": {},
   "source": [
    "## Model Parameters"
   ]
  },
  {
   "cell_type": "markdown",
   "metadata": {},
   "source": [
    "Assume a maximum asset age of 5 years, asset replacement cost $c = 75$, and annual discount factor $\\delta = 0.9$."
   ]
  },
  {
   "cell_type": "code",
   "execution_count": 2,
   "metadata": {
    "collapsed": true
   },
   "outputs": [],
   "source": [
    "maxage  = 5\n",
    "repcost = 75\n",
    "delta   = 0.9"
   ]
  },
  {
   "cell_type": "markdown",
   "metadata": {},
   "source": [
    "### State Space"
   ]
  },
  {
   "cell_type": "markdown",
   "metadata": {},
   "source": [
    "The state variable $a \\in \\{1, 2, 3, \\dots, n\\}$ is the age of the asset in years."
   ]
  },
  {
   "cell_type": "code",
   "execution_count": 3,
   "metadata": {
    "collapsed": true
   },
   "outputs": [],
   "source": [
    "S = np.arange(1, 1 + maxage)  # machine age\n",
    "n = S.size                \t  # number of states"
   ]
  },
  {
   "cell_type": "markdown",
   "metadata": {},
   "source": [
    "### Action Space"
   ]
  },
  {
   "cell_type": "markdown",
   "metadata": {},
   "source": [
    "The action variable $x \\in \\{\\text{keep, replace}\\}$ is the hold-replacement decision. "
   ]
  },
  {
   "cell_type": "code",
   "execution_count": 4,
   "metadata": {
    "collapsed": true
   },
   "outputs": [],
   "source": [
    "X = ['keep', 'replace']     # list of actions\n",
    "m = len(X)                  # number of actions"
   ]
  },
  {
   "cell_type": "markdown",
   "metadata": {},
   "source": [
    "### Reward Function"
   ]
  },
  {
   "cell_type": "markdown",
   "metadata": {},
   "source": [
    "The reward function is\n",
    "\\begin{equation}\n",
    "f(a, x) = \\begin{cases} p(a), &x = \\text{keep} \\\\\n",
    "    p(0) - c, &x = \\text{replace}\n",
    "\\end{cases}\n",
    "\\end{equation}\n",
    "\n",
    "Assuming a profit contribution $p(a) = 50 − 2.5a − 2.5a^2$ that is a function of the asset age $a$ in years:"
   ]
  },
  {
   "cell_type": "code",
   "execution_count": 5,
   "metadata": {
    "collapsed": true
   },
   "outputs": [],
   "source": [
    "f = np.zeros((m, n))\n",
    "f[0] = 50 - 2.5 * S - 2.5 * S ** 2\n",
    "f[1] = 50 - repcost\n",
    "f[0, -1] = -np.inf"
   ]
  },
  {
   "cell_type": "markdown",
   "metadata": {},
   "source": [
    "### State Transition Function"
   ]
  },
  {
   "cell_type": "markdown",
   "metadata": {},
   "source": [
    "The state transition function is\n",
    "\\begin{equation}\n",
    "g(a, x) = \\begin{cases} a + 1, &x = \\text{keep} \\\\\n",
    "    1, &x = \\text{replace}\n",
    "\\end{cases}\n",
    "\\end{equation}"
   ]
  },
  {
   "cell_type": "code",
   "execution_count": 6,
   "metadata": {
    "collapsed": true
   },
   "outputs": [],
   "source": [
    "g = np.zeros_like(f)\n",
    "g[0] = np.arange(1, n + 1)\n",
    "g[0, -1] = n - 1  # adjust last state so it doesn't go out of bounds"
   ]
  },
  {
   "cell_type": "markdown",
   "metadata": {},
   "source": [
    "## Model Structure"
   ]
  },
  {
   "cell_type": "markdown",
   "metadata": {},
   "source": [
    "The value of an asset of age a satisfies the Bellman equation\n",
    "\\begin{equation}\n",
    "V(a) = \\max\\{p(a) + \\delta V(a + 1),\\quad p(0) − c + \\delta V(1)\\}\n",
    "\\end{equation}\n",
    "\n",
    "where we set $p(n) = -\\infty$ to enforce replacement of an asset of age $n$. The Bellman equation asserts that if the manufacturer keeps an asset of age $a$, he earns $p(a)$ over the coming year and begins the subsequent year with an asset that is one year older and worth $V(a+1)$; if he replaces the asset, however, he starts the year with a new asset, earns $p(0)−c$ over the year, and begins the subsequent year with an asset that is one year old and worth $V(1)$. Actually, our language is a little loose here. The value $V(a)$ measures not only the current and future net earnings of an asset of age $a$, but also the net earnings of all future assets that replace it."
   ]
  },
  {
   "cell_type": "markdown",
   "metadata": {},
   "source": [
    "To solve and simulate this model, use the CompEcon class ```DDPmodel```. "
   ]
  },
  {
   "cell_type": "code",
   "execution_count": 7,
   "metadata": {
    "collapsed": false
   },
   "outputs": [
    {
     "data": {
      "text/plain": [
       "A deterministic discrete state, discrete action, dynamic model.\n",
       "There are 2 possible actions over 5 possible states"
      ]
     },
     "execution_count": 7,
     "metadata": {},
     "output_type": "execute_result"
    }
   ],
   "source": [
    "model = DDPmodel(f, g, delta)\n",
    "model.solve()"
   ]
  },
  {
   "cell_type": "markdown",
   "metadata": {},
   "source": [
    "## Analysis"
   ]
  },
  {
   "cell_type": "markdown",
   "metadata": {},
   "source": [
    "### Plot Optimal Value\n",
    "This Figure gives the value of the firm at\n",
    "the beginning of the period as a function of the asset’s age."
   ]
  },
  {
   "cell_type": "code",
   "execution_count": 8,
   "metadata": {
    "collapsed": false
   },
   "outputs": [
    {
     "data": {
      "image/png": "[encoded data removed]",
      "text/plain": [
       "<matplotlib.figure.Figure at 0x944254aba8>"
      ]
     },
     "metadata": {},
     "output_type": "display_data"
    }
   ],
   "source": [
    "demo.figure('Optimal Value Function', 'Age of Machine', 'Value')\n",
    "plt.plot(S, model.value)\n",
    "plt.show()"
   ]
  },
  {
   "cell_type": "markdown",
   "metadata": {},
   "source": [
    "### Simulate Model\n",
    "The path was computed by performing a deterministic simulation of 12 years in duration using the ```simulate()``` method."
   ]
  },
  {
   "cell_type": "code",
   "execution_count": 9,
   "metadata": {
    "collapsed": false
   },
   "outputs": [],
   "source": [
    "sinit, nyrs = S.min() - 1, 12\n",
    "t = np.arange(1 + nyrs)\n",
    "spath, xpath = model.simulate(sinit, nyrs)"
   ]
  },
  {
   "cell_type": "markdown",
   "metadata": {},
   "source": [
    "### Plot State Path\n",
    "Next Figure gives the age of the asset along the optimal path. As can be seen in this figure, the asset is replaced every four years."
   ]
  },
  {
   "cell_type": "code",
   "execution_count": 10,
   "metadata": {
    "collapsed": false
   },
   "outputs": [
    {
     "data": {
      "image/png": "[encoded data removed]",
      "text/plain": [
       "<matplotlib.figure.Figure at 0x9442ab2fd0>"
      ]
     },
     "metadata": {},
     "output_type": "display_data"
    }
   ],
   "source": [
    "demo.figure('Optimal State Path', 'Year', 'Age of Machine', [0, 12])\n",
    "plt.plot(t, S[spath])\n",
    "plt.show()"
   ]
  }
 ],
 "metadata": {
  "kernelspec": {
   "display_name": "Python 3",
   "language": "python",
   "name": "python3"
  },
  "language_info": {
   "codemirror_mode": {
    "name": "ipython",
    "version": 3
   },
   "file_extension": ".py",
   "mimetype": "text/x-python",
   "name": "python",
   "nbconvert_exporter": "python",
   "pygments_lexer": "ipython3",
   "version": "3.5.1"
  }
 },
 "nbformat": 4,
 "nbformat_minor": 0
}
