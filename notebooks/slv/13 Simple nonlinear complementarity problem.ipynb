{
 "cells": [
  {
   "cell_type": "markdown",
   "metadata": {},
   "source": [
    "### DEMSLV13\n",
    "# Simple nonlinear complementarity problem\n",
    "The problem is to solve \n",
    "\n",
    "\\begin{equation}\n",
    "f(x, y) = \\begin{bmatrix}1+x(y -2x^2-1)\\\\ 2x^2-y\\end{bmatrix}\n",
    "\\end{equation}\n",
    "\n",
    "subject to $0 \\leq x, y \\leq 1$"
   ]
  },
  {
   "cell_type": "code",
   "execution_count": 1,
   "metadata": {
    "collapsed": false
   },
   "outputs": [],
   "source": [
    "from compecon import MCP\n",
    "from compecon.tools import jacobian\n",
    "from demos.setup import np"
   ]
  },
  {
   "cell_type": "markdown",
   "metadata": {},
   "source": [
    "### Solving the problem\n",
    "To solve this problem we create a **MCP** object using a lambda function."
   ]
  },
  {
   "cell_type": "code",
   "execution_count": 2,
   "metadata": {
    "collapsed": true
   },
   "outputs": [],
   "source": [
    "a = np.array([0.0, 0.0])\n",
    "b = np.array([1.0, 1.0])\n",
    "\n",
    "def func(z):\n",
    "    x, y = z\n",
    "    fval = np.array([1 + x * (y - 2*x**2 - 1), 2*x**2 - y])\n",
    "    return fval\n",
    "                   \n",
    "F = MCP(func, a, b)"
   ]
  },
  {
   "cell_type": "markdown",
   "metadata": {},
   "source": [
    "Solve for initial guess $x_0 = [0.5, 0.5]$"
   ]
  },
  {
   "cell_type": "code",
   "execution_count": 3,
   "metadata": {
    "collapsed": false
   },
   "outputs": [
    {
     "name": "stdout",
     "output_type": "stream",
     "text": [
      "Using the MINMAX transformation\n",
      "Solving nonlinear equations by Broyden's method\n",
      "it    bstep  change\n",
      "--------------------\n",
      "   0     1  1.56e-01\n",
      "   1     1  1.14e-01\n",
      "   2     1  1.01e-01\n",
      "   3     0  3.66e-02\n",
      "   4     0  1.33e-03\n",
      "   5     0  1.86e-05\n",
      "   6     0  2.02e-07\n",
      "   7     0  1.13e-09\n"
     ]
    }
   ],
   "source": [
    "x0 = [0.5, 0.5]\n",
    "x = F.zero(x0, transform='minmax', print=True)"
   ]
  },
  {
   "cell_type": "markdown",
   "metadata": {},
   "source": [
    "The solution is "
   ]
  },
  {
   "cell_type": "code",
   "execution_count": 4,
   "metadata": {
    "collapsed": false
   },
   "outputs": [
    {
     "name": "stdout",
     "output_type": "stream",
     "text": [
      "[x, y] = [0.7937, 1.0000]\n"
     ]
    }
   ],
   "source": [
    "print('[x, y] = [{:.4f}, {:.4f}]'.format(*x))"
   ]
  }
 ],
 "metadata": {
  "kernelspec": {
   "display_name": "Python 3",
   "language": "python",
   "name": "python3"
  },
  "language_info": {
   "codemirror_mode": {
    "name": "ipython",
    "version": 3
   },
   "file_extension": ".py",
   "mimetype": "text/x-python",
   "name": "python",
   "nbconvert_exporter": "python",
   "pygments_lexer": "ipython3",
   "version": "3.5.0"
  }
 },
 "nbformat": 4,
 "nbformat_minor": 0
}
