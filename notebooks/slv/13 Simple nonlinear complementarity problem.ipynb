{
 "cells": [
  {
   "cell_type": "markdown",
   "metadata": {},
   "source": [
    "### DEMSLV13\n",
    "# Simple nonlinear complementarity problem\n",
    "The problem is to solve \n",
    "\n",
    "\\begin{equation}\n",
    "f(x, y) = \\begin{bmatrix}1+xy -2x^3-x\\\\ 2x^2-y\\end{bmatrix}\n",
    "\\end{equation}\n",
    "\n",
    "subject to $0 \\leq x, y \\leq 1$"
   ]
  },
  {
   "cell_type": "code",
   "execution_count": 26,
   "metadata": {
    "collapsed": false
   },
   "outputs": [],
   "source": [
    "from compecon import MCP, jacobian\n",
    "# from compecon.tools import jacobian\n",
    "import numpy as np\n",
    "\n",
    "def printx(x):\n",
    "    print(f'\\nSolution is [x, y] = [{x[0]:.4f}, {x[1]:.4f}]')\n",
    "    \n",
    "x0 = [0.5, 0.5]    "
   ]
  },
  {
   "cell_type": "markdown",
   "metadata": {},
   "source": [
    "### Solving the problem without the Jacobian\n",
    "To solve this problem we create a **MCP** object using a lambda function."
   ]
  },
  {
   "cell_type": "code",
   "execution_count": 27,
   "metadata": {
    "collapsed": true
   },
   "outputs": [],
   "source": [
    "def func(z):\n",
    "    x, y = z\n",
    "    return np.array([1 + x*y - 2*x**3 - x, 2*x**2 - y])\n",
    "                      \n",
    "F = MCP(func, [0, 0], [1,1])"
   ]
  },
  {
   "cell_type": "markdown",
   "metadata": {},
   "source": [
    "Solve for initial guess $x_0 = [0.5, 0.5]$"
   ]
  },
  {
   "cell_type": "code",
   "execution_count": 28,
   "metadata": {
    "collapsed": false
   },
   "outputs": [
    {
     "name": "stdout",
     "output_type": "stream",
     "text": [
      "Using the MINMAX transformation\n",
      "Solving nonlinear equations by Broyden's method\n",
      "it    bstep  change\n",
      "--------------------\n",
      "   0     1  1.56e-01\n",
      "   1     1  1.14e-01\n",
      "   2     1  1.01e-01\n",
      "   3     0  3.66e-02\n",
      "   4     0  1.33e-03\n",
      "   5     0  1.86e-05\n",
      "   6     0  2.02e-07\n",
      "   7     0  1.13e-09\n",
      "\n",
      "Solution is [x, y] = [0.7937, 1.0000]\n"
     ]
    }
   ],
   "source": [
    "x = F.zero(x0, transform='minmax', print=True)\n",
    "printx(x)"
   ]
  },
  {
   "cell_type": "code",
   "execution_count": 38,
   "metadata": {
    "collapsed": false
   },
   "outputs": [],
   "source": [
    "# x = F.zero(x0, transform='ssmooth', print=True)\n",
    "# printx(x)\n",
    "# FIXME: generates error"
   ]
  },
  {
   "cell_type": "markdown",
   "metadata": {},
   "source": [
    "### Solving the problem with the Jacobian"
   ]
  },
  {
   "cell_type": "code",
   "execution_count": 33,
   "metadata": {
    "collapsed": true
   },
   "outputs": [],
   "source": [
    "def func2(z):\n",
    "    x, y = z\n",
    "    f = [1 + x*y - 2*x**3 - x, 2*x**2 - y]\n",
    "    J = [[y-6*x**2-1, x],[4*x, -1]]\n",
    "    return np.array(f), np.array(J)                  \n",
    "\n",
    "F2 = MCP(func2, [0, 0], [1,1])"
   ]
  },
  {
   "cell_type": "code",
   "execution_count": 37,
   "metadata": {
    "collapsed": false,
    "scrolled": true
   },
   "outputs": [
    {
     "name": "stdout",
     "output_type": "stream",
     "text": [
      "Using the MINMAX transformation\n",
      "Solving nonlinear equations by Newton's method\n",
      "it    bstep  change\n",
      "--------------------\n",
      "   0     1  1.56e-01\n",
      "   1     0  9.84e-03\n",
      "   2     0  3.19e-05\n",
      "   3     0  3.40e-10\n",
      "\n",
      "Solution is [x, y] = [0.7937, 1.0000]\n"
     ]
    }
   ],
   "source": [
    "x = F2.zero(x0, transform='minmax', print=True)\n",
    "printx(x)"
   ]
  },
  {
   "cell_type": "code",
   "execution_count": 46,
   "metadata": {
    "collapsed": false
   },
   "outputs": [
    {
     "name": "stdout",
     "output_type": "stream",
     "text": [
      "Solution is x =  [ 0.7937  1.    ]\n"
     ]
    }
   ],
   "source": [
    "print('Solution is x = ', x)"
   ]
  },
  {
   "cell_type": "code",
   "execution_count": 45,
   "metadata": {
    "collapsed": true
   },
   "outputs": [],
   "source": [
    "np.set_printoptions(precision=4)"
   ]
  }
 ],
 "metadata": {
  "kernelspec": {
   "display_name": "Python 3",
   "language": "python",
   "name": "python3"
  },
  "language_info": {
   "codemirror_mode": {
    "name": "ipython",
    "version": 3
   },
   "file_extension": ".py",
   "mimetype": "text/x-python",
   "name": "python",
   "nbconvert_exporter": "python",
   "pygments_lexer": "ipython3",
   "version": "3.6.0"
  }
 },
 "nbformat": 4,
 "nbformat_minor": 0
}
