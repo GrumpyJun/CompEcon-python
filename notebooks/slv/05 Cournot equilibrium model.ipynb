{
 "cells": [
  {
   "cell_type": "markdown",
   "metadata": {},
   "source": [
    "### DEMSLV05"
   ]
  },
  {
   "cell_type": "markdown",
   "metadata": {},
   "source": [
    "# Cournot Equilibrium Model"
   ]
  },
  {
   "cell_type": "code",
   "execution_count": 1,
   "metadata": {
    "collapsed": true
   },
   "outputs": [],
   "source": [
    "from demos.setup import np, plt, demo\n",
    "from compecon import NLP, gridmake\n",
    "%matplotlib inline"
   ]
  },
  {
   "cell_type": "markdown",
   "metadata": {},
   "source": [
    "### Parameters and initial value"
   ]
  },
  {
   "cell_type": "code",
   "execution_count": 2,
   "metadata": {
    "collapsed": true
   },
   "outputs": [],
   "source": [
    "alpha = 0.6\n",
    "beta = np.array([0.6, 0.8])"
   ]
  },
  {
   "cell_type": "markdown",
   "metadata": {},
   "source": [
    "### Set up the Cournot function"
   ]
  },
  {
   "cell_type": "code",
   "execution_count": 3,
   "metadata": {
    "collapsed": true
   },
   "outputs": [],
   "source": [
    "def cournot(q):\n",
    "    qsum = q.sum()\n",
    "    P = qsum ** (-alpha)\n",
    "    P1 = -alpha * qsum **(-alpha-1)\n",
    "    P2 = -alpha * (-alpha - 1) * qsum ** (-alpha-2)\n",
    "    fval = P + (P1 - beta) * q\n",
    "    fjac = np.diag(2 * P1 + P2 * q - beta) + np.fliplr(np.diag(P1 + P2 * q))\n",
    "    return fval, fjac"
   ]
  },
  {
   "cell_type": "markdown",
   "metadata": {},
   "source": [
    "### Compute equilibrium using Newton method (explicitly)"
   ]
  },
  {
   "cell_type": "code",
   "execution_count": 4,
   "metadata": {
    "collapsed": false
   },
   "outputs": [
    {
     "name": "stdout",
     "output_type": "stream",
     "text": [
      "[ 0.8562  0.7   ]\n"
     ]
    }
   ],
   "source": [
    "q = np.array([0.2, 0.2])\n",
    "\n",
    "for it in range(40):\n",
    "    f, J = cournot(q)\n",
    "    step = -np.linalg.solve(J, f)\n",
    "    q += step\n",
    "    if np.linalg.norm(step) < 1.e-10: break\n",
    "\n",
    "print(q)"
   ]
  },
  {
   "cell_type": "markdown",
   "metadata": {},
   "source": [
    "### Generate data for contour plot"
   ]
  },
  {
   "cell_type": "code",
   "execution_count": 5,
   "metadata": {
    "collapsed": true
   },
   "outputs": [],
   "source": [
    "n = 100\n",
    "q1 = np.linspace(0.1, 1.5, n)\n",
    "q2 = np.linspace(0.1, 1.5, n)\n",
    "z = np.array([cournot(q)[0] for q in gridmake(q1, q2).T]).T"
   ]
  },
  {
   "cell_type": "markdown",
   "metadata": {},
   "source": [
    "### Using a NLP object"
   ]
  },
  {
   "cell_type": "code",
   "execution_count": 6,
   "metadata": {
    "collapsed": false
   },
   "outputs": [
    {
     "name": "stdout",
     "output_type": "stream",
     "text": [
      "0.856248205114\n"
     ]
    }
   ],
   "source": [
    "q = np.array([0.2, 0.2])\n",
    "cournot_problem = NLP(cournot)#, q)\n",
    "q_star, fq_star = cournot_problem.newton(q)\n",
    "print(q_star)"
   ]
  },
  {
   "cell_type": "markdown",
   "metadata": {},
   "source": [
    "### Plot figures"
   ]
  },
  {
   "cell_type": "code",
   "execution_count": 7,
   "metadata": {
    "collapsed": false
   },
   "outputs": [
    {
     "data": {
      "image/png": "[encoded data removed]",
      "text/plain": [
       "<matplotlib.figure.Figure at 0x202dcb4e208>"
      ]
     },
     "metadata": {},
     "output_type": "display_data"
    }
   ],
   "source": [
    "steps_options = {'marker': 'o',\n",
    "                 'color': (0.2, 0.2, .81),\n",
    "                 'linewidth': 1.0,\n",
    "                 'markersize': 9,\n",
    "                 'markerfacecolor': 'white',\n",
    "                 'markeredgecolor': 'red'}\n",
    "\n",
    "contour_options = {'levels': [0.0, 0.0],\n",
    "                   'colors': '0.25',\n",
    "                   'linewidths': 0.5}\n",
    "\n",
    "\n",
    "Q1, Q2 = np.meshgrid(q1, q2)\n",
    "Z0 = np.reshape(z[0], (n,n), order='F')\n",
    "Z1 = np.reshape(z[1], (n,n), order='F')\n",
    "\n",
    "methods = ['newton', 'broyden']\n",
    "cournot_problem.opts['maxit', 'maxsteps', 'all_x'] = 10, 0, True\n",
    "\n",
    "qmin, qmax = 0.1, 1.3\n",
    "\n",
    "plt.figure(figsize=[12,6])\n",
    "for it in range(2):\n",
    "    x = cournot_problem.zero(method=methods[it])\n",
    "    demo.subplot(1, 2, it + 1, methods[it].capitalize() + \"'s method\",\n",
    "                 '$q_1$', '$q_2$', [qmin, qmax], [qmin, qmax])\n",
    "    plt.contour(Q1, Q2, Z0, **contour_options)\n",
    "    plt.contour(Q1, Q2, Z1, **contour_options)\n",
    "    plt.plot(*cournot_problem.x_sequence, **steps_options)\n",
    "\n",
    "    demo.text(0.85, qmax, '$\\pi_1 = 0$', 'left', 'top')\n",
    "    demo.text(qmax, 0.55, '$\\pi_2 = 0$', 'right', 'center')\n",
    "plt.show()"
   ]
  }
 ],
 "metadata": {
  "kernelspec": {
   "display_name": "Python 3",
   "language": "python",
   "name": "python3"
  },
  "language_info": {
   "codemirror_mode": {
    "name": "ipython",
    "version": 3
   },
   "file_extension": ".py",
   "mimetype": "text/x-python",
   "name": "python",
   "nbconvert_exporter": "python",
   "pygments_lexer": "ipython3",
   "version": "3.5.0"
  }
 },
 "nbformat": 4,
 "nbformat_minor": 0
}
